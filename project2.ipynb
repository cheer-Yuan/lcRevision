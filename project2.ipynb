{
 "cells": [
  {
   "cell_type": "markdown",
   "metadata": {},
   "source": [
    "## Network Science Project 2\n",
    "### Autumn 2021\n",
    "### Due: December 17th, 4:00pm GMT"
   ]
  },
  {
   "cell_type": "markdown",
   "metadata": {},
   "source": [
    "Name:             \n",
    "CID:"
   ]
  },
  {
   "cell_type": "markdown",
   "metadata": {},
   "source": [
    "Please enter your name and 8-digit college ID in the cell above"
   ]
  },
  {
   "cell_type": "code",
   "execution_count": null,
   "metadata": {},
   "outputs": [],
   "source": [
    "# Do not modify this cell or import any other modules\n",
    "# without explicit permission. \n",
    "# You should run this cell before running the code below.\n",
    "import numpy as np\n",
    "%matplotlib inline\n",
    "import matplotlib.pyplot as plt\n",
    "#You may also use scipy as needed"
   ]
  },
  {
   "cell_type": "markdown",
   "metadata": {},
   "source": [
    "### Overview"
   ]
  },
  {
   "cell_type": "markdown",
   "metadata": {},
   "source": [
    "When working on real-world problems, we often encounter *weighted* networks. In this assignment, you will work through a set of tasks using data for a weighted undirected network where the nodes correspond to regions of the human brain with particular functions, and weighted links indict the density of neuron fiber pathways between regions. You have been provided with the *weight matrix*, $\\rm W$, for the network which is defined as follows: $W_{ij}=0$ indicates that there are no connections between regions $i$ and $j$. If $i$ and $j$ are connected, $W_{ij}$ contains the density of connections which can be considered to be an estimate of how much current can flow between the two regions. The only other information about the human brain that is needed for this assignment is that it consists of two parts, a left and right hemisphere.\n",
    "\n",
    "Code for loading $\\rm W$ is provided in the cell below. The file should be save in the same folder as this notebook. Please check that you can load the file, and ask for help if you cannot. The corresponding graph has $N=467$ nodes."
   ]
  },
  {
   "cell_type": "code",
   "execution_count": null,
   "metadata": {},
   "outputs": [],
   "source": [
    "#load weight matrix and output shape\n",
    "W = np.load('Wproject2.npy')\n",
    "print(\"Shape of W is:\", W.shape)"
   ]
  },
  {
   "cell_type": "markdown",
   "metadata": {},
   "source": [
    "### Part 1\n",
    "In lecture 14, the spectral method for community detection in unweighted, undirected graphs was discussed. Here, you will develop code for this method modified for weighted undirected graphs. The code will compute an $N$-element vector, $\\rm s$ where $s_i=\\pm 1$ and indicates which community node $i$ has been assigned to. The method requires a modification to the definition of the modularity matrix. Let $\\tilde k_i = \\sum_{j=1}^N W_{ij}$, and $\\tilde K = \\sum_{i=1}^N \\tilde k_i$. The modified modularity matrix is defined as: $$\\tilde B_{ij} = W_{ij}-\\frac{\\tilde k_i \\tilde k_j}{\\tilde K}$$. The modified spectral method then requires the following steps:\n",
    "1. Find the $N$-element vector $\\rm x$ with $\\textrm{x}^T \\textrm{x}=N$ which maximizes $\\textrm{x}^T \\tilde{\\textrm{B}} \\textrm{x}$ \n",
    "2. Adjust $\\rm x$ to construct $\\rm s$ in the same way that $\\tilde{\\textrm{s}}$ is adjusted to obtain $\\rm s$ for the unweighted case.\n",
    "\n",
    "Note that the modularity of a set of nodes in a weighted graph, $S_a$, is $\\frac{1}{\\tilde K}\\sum_{i \\in S_a} \\sum_{j \\in S_a} \\tilde B_{ij}$."
   ]
  },
  {
   "cell_type": "markdown",
   "metadata": {},
   "source": [
    "**1. (a)** (4 pts) Complete the function *spectralW* below so that it **efficiently** applies the modified spectral method to the provided graph and returns both the vector, $\\rm s$, and the modified modularity matrix, $\\tilde{\\textrm{B}}$. The code should not rely on any variables aside from the function input. You may use numpy and scipy as needed, but you should not use any other modules. See the function docstring for further information on the function input and output; please do not modify the input or the return statement. Provide a brief description of your approach in the cell below the function. Note: the code should be designed to work well for general large complex networks such as those listed in table 2.1 of Barabasi's book."
   ]
  },
  {
   "cell_type": "code",
   "execution_count": null,
   "metadata": {},
   "outputs": [],
   "source": [
    "def spectralW(W):\n",
    "    \"\"\"Compute partition of weighted undirected network into two communities using modified spectral method.\n",
    "\n",
    "    Input:\n",
    "    W: An N x N numpy array corresponding to the network weight matrix\n",
    "\n",
    "    Output:\n",
    "    s: An N-element array where each element is +/- 1 and indicates which community each node has been assigned to. \n",
    "    \n",
    "    Btilde: An N x N numpy array corresponding to the modified modularity matrix\n",
    "\n",
    "    \"\"\"\n",
    "    #Use code below as needed\n",
    "    N = W.shape[0]\n",
    "    s = np.zeros(N)\n",
    "    Btilde = np.zeros((N,N))\n",
    "    #--------------------------\n",
    "    \n",
    "    #Add code here\n",
    "   \n",
    "    return s,Btilde #please do not modify\n",
    "    \n",
    "\n",
    "    "
   ]
  },
  {
   "cell_type": "markdown",
   "metadata": {},
   "source": [
    "*Add discussion for 1(a) here:* "
   ]
  },
  {
   "cell_type": "markdown",
   "metadata": {},
   "source": [
    "**1.(b)** (2 pts) You have been provided with code below to load the array, nLabel; nLabel[i]=1 if node $i$ is in the right hemisphere of the brain, and nLabel[i]=-1 if node $i$ is in the left hemisphere. Treat the hemisphere-based partition as the \"correct\" partition. Apply the modified spectral method to the provided weight matrix, and compare the computed partition to this hemisphere-based partition. Determine and state what fraction of the nodes in each computed community have been assigned to the correct hemisphere. Add code to the cell below which carries out the needed computations. Note that multiplying $\\rm s$ with $(-1)$ also generates a valid partition. You should choose $\\rm s$ or $- \\rm s$ based on which more-closely matches the correct partition. "
   ]
  },
  {
   "cell_type": "code",
   "execution_count": null,
   "metadata": {},
   "outputs": [],
   "source": [
    "nLabel = np.load('nLabel.npy')\n",
    "print(\"Shape of nLabel is:\", nLabel.shape)\n",
    "#Add code for 1(b) here\n"
   ]
  },
  {
   "cell_type": "markdown",
   "metadata": {},
   "source": [
    "*Add discussion for 1(b) here:*\n"
   ]
  },
  {
   "cell_type": "markdown",
   "metadata": {},
   "source": [
    "**2.** (3 pts) For brain networks, we are typically interested in partitions with more than 2 communities. Here, you will extend the modified spectral method to construct a partition with 3 communities. The extended method works as follows. Start with the 2-community partition generated by the method. Treat one of the communities as a separate graph. In other words, construct a new graph consisting of the nodes in a community and the weighted links between nodes within the community. Then apply the modified spectral method to this new graph to form two new communities. \n",
    "There are two different 3-community partitions that can be formed depending on which of the 2 initial communities is used to construct the new graph. Add code to the cell below to implement this method. The function *spectralW3* should be completed and then called to form both 3-community partitions. See the function docstring for further information on how the code should be designed. Briefly discuss your results below. Explain which 3-community partition is better and if it should be preferred to the original 2-community partition. You have been provided code below to create the new graph given the array $\\rm s$ for the 2-community partition."
   ]
  },
  {
   "cell_type": "code",
   "execution_count": null,
   "metadata": {},
   "outputs": [],
   "source": [
    "import networkx as nx\n",
    "def spectralW3(W,s,l):\n",
    "    \"\"\"Compute partition of weighted network into three communities using modified spectral method.\n",
    "\n",
    "    Input:\n",
    "    W: An N x N numpy array corresponding to the network weight matrix\n",
    "    s: An N-element array whose elements are +/- 1 and define the 2-community partition\n",
    "    l: An integer that should be set to +/- 1. If l=1, then the nodes with s=1 should be used to form the new graph\n",
    "        for partitioning. Otherwise the nodes with s=-1 should be used\n",
    "\n",
    "    Output:\n",
    "    s3: An N-element array where each element is one of three integers and indicates which community each node has been assigned to.\n",
    "    If l=1, then for i where s[i]=1, s3[i]=1, and the other elements of s3 should be +/- 10 based on the calculations in the function.\n",
    "    If l=-1, then for i where s[i]=-1, s3[i]=-1, and the other elements of s3 should be +/- 10 based on the calculations.\n",
    "    \"\"\"\n",
    "    \n",
    "    assert l==1 or l==-1, 'error, l should be +/- 1' #force l to be +/-1\n",
    "    \n",
    "    #-------------------------\n",
    "    #Use code below as needed\n",
    "    N = W.shape[0]\n",
    "    s3 = np.zeros(N)\n",
    "\n",
    "    #construct weight matrix for new graph based on input variables\n",
    "    G = nx.from_numpy_array(W) \n",
    "    ind = np.where(s==l)[0]\n",
    "    Gnew = G.subgraph(ind).copy() #new graph \n",
    "    Wnew = nx.adjacency_matrix(Gnew,weight='weight').toarray()\n",
    "    Nnew = Gnew.number_of_nodes()\n",
    "    nList = list(Gnew.nodes()) #nList relates the node numbers of the new graph to the node numbers in the original graph, G. \n",
    "                               #nList[i] is the node number in G which corresponds to node i in Gnew    \n",
    "    #--------------------------\n",
    "    \n",
    "    #Add code here\n",
    "    \n",
    "    return s3 #please do not modify\n",
    "\n",
    "#Add code here to generate and analyze partitions\n",
    "\n",
    "\n",
    "\n",
    "    "
   ]
  },
  {
   "cell_type": "markdown",
   "metadata": {},
   "source": [
    "*Add discussion for 2. here*"
   ]
  },
  {
   "cell_type": "markdown",
   "metadata": {},
   "source": [
    "### Part 2\n",
    "\n",
    "In part 2, you will analyze results produced by the function in the cell below."
   ]
  },
  {
   "cell_type": "code",
   "execution_count": null,
   "metadata": {},
   "outputs": [],
   "source": [
    "\"\"\"\n",
    "Code provided for part 2\n",
    "\"\"\"\n",
    "W = np.load('Wproject2.npy')\n",
    "\n",
    "def part2(W,T=10,Nt=100,i0=2,y0=0.001,a=1,b=1):\n",
    "    from scipy.integrate import odeint\n",
    "    N = W.shape[0]\n",
    " \n",
    "    def func1(y,t,a,b):\n",
    "        fac = W.sum(axis=0)\n",
    "        x1 = y*(b-y/fac)\n",
    "        C =np.sin(np.subtract.outer(y,y))\n",
    "        temp = W*C\n",
    "        x2 = a*temp.sum(axis=0)\n",
    "        f = x1 + x2\n",
    "        return f\n",
    "\n",
    "    yi = np.zeros(N)\n",
    "    yi[i0] = y0\n",
    "    t = np.linspace(0,T,Nt+1)\n",
    "    yf = odeint(func1,yi,t,args=(a,b))\n",
    "    return t,yf\n",
    "\n",
    "t,yf = part2(W)\n"
   ]
  },
  {
   "cell_type": "markdown",
   "metadata": {},
   "source": [
    "**3.** (2 pts) Explain what the code above does. You should provide a clear and concise description of the problem that the code solves, and an overview of the approach taken by the code to solve the problem. A line-by-line description of the code is not needed. "
   ]
  },
  {
   "cell_type": "markdown",
   "metadata": {},
   "source": [
    "*Add discussion for 3. here:* "
   ]
  },
  {
   "cell_type": "markdown",
   "metadata": {},
   "source": [
    "**4.** (4 pts) Investigate the results generated by the code when $a=0.001$, $a=1$, $b=1$, $b=4$ (four cases in total). You should describe key qualitative trends observed and consider what influence, if any, the community structure of the network has on the results. Your discussion should be supported by well-designed figures (please do not create more than 12 figures). You should vary Nt and T as appropriate. Add the relevant code and discussion in the cells below"
   ]
  },
  {
   "cell_type": "code",
   "execution_count": null,
   "metadata": {},
   "outputs": [],
   "source": [
    "#Add code here\n"
   ]
  },
  {
   "cell_type": "markdown",
   "metadata": {},
   "source": [
    "*Add discussion for 4. here*\n"
   ]
  },
  {
   "cell_type": "markdown",
   "metadata": {},
   "source": [
    "**5.** (5 pts) Analyze the key trends observed in the results presented for question 4. You should provide clear connections between the observed computational results and the mathematical properties of the problem being solved and of the provided network. Add relevant code and discussion in the cell below. You may include up to 4 additional figures to support your discussion; you may also design your figures for question 4. so that they can be referred to here. You are not required to provide further discussion of the community structure."
   ]
  },
  {
   "cell_type": "code",
   "execution_count": null,
   "metadata": {},
   "outputs": [],
   "source": [
    "#Add code here"
   ]
  },
  {
   "cell_type": "markdown",
   "metadata": {},
   "source": [
    "*Add discussion for 5. here*\n"
   ]
  },
  {
   "cell_type": "markdown",
   "metadata": {},
   "source": [
    "### Further guidance\n",
    "\n",
    "* You should submit both your completed Jupyter notebook and *either* a pdf version or html version of your notebook (generated using File --- Download as). If you cannot generate a pdf, try installing latex first, or submit an html version instead.\n",
    "    To submit your assignment, go to the module Blackboard page and click on \"Project 2\". There will be an option to attach your completed Jupyter notebook and pdf/html file to your submission. (these should be named *project2.ipynb* and *project2.pdf* or *project2.html*). After attaching the notebook, submit your assignment, and include the message, \"This is my own work unless indicated otherwise.\" to confirm that the submission represents your individual work.\n",
    "* You may use numpy, scipy, and matplotlib as needed. You may use networkx as needed **except** for question 1.(a) where it should not be used. Please do not any use any other packages without explicit permission.\n",
    "* Marking will be based on the correctness of your work, the efficiency of your code for question 1.(a), and the degree to which your submission reflects a good understanding of the material covered up to the release of this assignment. For open-ended questions, we are particularly interested in your ability to identify and explain important properties and trends, and exhaustive descriptions are not needed. While creative ideas based on class material is welcome, you are not expected to base your work on new ideas/concepts/methods that have not been covered (and it is unlikely that credit will be given for such work).\n",
    "* Open-ended questions require sensible time-management on your part. Do not spend so much time on this assignment that it interferes substantially with your other modules. If you are concerned that your approach to the assignment may require an excessive amount of time, please get in touch with the instructor. \n",
    "* Questions on the assignment should be asked in private settings. This can be a \"private\" question on Ed (which is distinct from \"anonymous\"), asking for a one-on-one meeting during office hours, or by arrangement with your Problem class instructor.\n",
    "* Please regularly backup your work. For example, you could keep an updated copy of your notebook on OneDrive.\n",
    "* In order to assign partial credit, we need to understand what your code is doing, so please add comments to the code to help us.\n",
    "* It may be helpful to initally develop your code in a Python module (outside of a function) and run it in a qtconsole (or similar Python terminal) so that you can readily access the values of the variables you are using.\n",
    "* Feel free to use/modify codes that I have provided during the term so far.\n"
   ]
  }
 ],
 "metadata": {
  "kernelspec": {
   "display_name": "Python 3",
   "language": "python",
   "name": "python3"
  },
  "language_info": {
   "codemirror_mode": {
    "name": "ipython",
    "version": 3
   },
   "file_extension": ".py",
   "mimetype": "text/x-python",
   "name": "python",
   "nbconvert_exporter": "python",
   "pygments_lexer": "ipython3",
   "version": "3.7.6"
  }
 },
 "nbformat": 4,
 "nbformat_minor": 1
}
